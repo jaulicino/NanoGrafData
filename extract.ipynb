{
 "cells": [
  {
   "cell_type": "markdown",
   "metadata": {},
   "source": [
    "<h1>Create CSVs</h1>\n",
    "\n",
    "\n",
    "To use this notebook, click <strong>Cell</strong> $\\rightarrow$ <strong>Run All</strong>, then type the path of the excel file  in the text input box (if it is in this directory, the name will suffice) and press enter. This will output statistics CSVs and channel CSVs for each cell id in the workbook.\n",
    "\n",
    "\n",
    "<em>Note: Given the size of these files it may take between 30 seconds and a minute for Pandas to load the whole workbook</em>"
   ]
  },
  {
   "cell_type": "code",
   "execution_count": 2,
   "metadata": {},
   "outputs": [],
   "source": [
    "import numpy as np\n",
    "import pandas as pd\n",
    "import ipywidgets as widgets\n"
   ]
  },
  {
   "cell_type": "markdown",
   "metadata": {},
   "source": [
    "<em> like \"data_sample.xlsx\"</em>"
   ]
  },
  {
   "cell_type": "code",
   "execution_count": 3,
   "metadata": {},
   "outputs": [
    {
     "name": "stdout",
     "output_type": "stream",
     "text": [
      "data_sample.xlsx\n"
     ]
    }
   ],
   "source": [
    "file_name = input()"
   ]
  },
  {
   "cell_type": "code",
   "execution_count": null,
   "metadata": {},
   "outputs": [],
   "source": [
    "df = pd.ExcelFile(file_name)\n",
    "sheetnames = df.sheet_names"
   ]
  },
  {
   "cell_type": "code",
   "execution_count": null,
   "metadata": {},
   "outputs": [],
   "source": [
    "statistics = {}\n",
    "for i in sheetnames:\n",
    "    if \"Statistics\" in i:\n",
    "        statistics[i] = pd.read_excel(df, i)\n"
   ]
  },
  {
   "cell_type": "code",
   "execution_count": null,
   "metadata": {},
   "outputs": [],
   "source": [
    "requested_columns = [\"Cycle_Index\", \"Charge_Capacity(Ah)\", \"Discharge_Capacity(Ah)\"]\n",
    "for i in statistics:\n",
    "    sdf = pd.DataFrame(statistics[i][requested_columns], columns=requested_columns)\n",
    "    sdf.name = i    \n",
    "    sdf.to_csv(i+\".csv\", index=False)"
   ]
  },
  {
   "cell_type": "code",
   "execution_count": null,
   "metadata": {},
   "outputs": [],
   "source": [
    "channels = {}\n",
    "for i in sheetnames:\n",
    "    if \"Channel\" in i:\n",
    "        channels[i] = pd.read_excel(df, i)\n"
   ]
  },
  {
   "cell_type": "code",
   "execution_count": null,
   "metadata": {},
   "outputs": [],
   "source": [
    "requested_columns = [\"Data_Point\",\"Cycle_Index\", \"Current(A)\", \"Voltage(V)\",\"Charge_Capacity(Ah)\", \"Discharge_Capacity(Ah)\"]\n",
    "for i in channels:\n",
    "    cdf = pd.DataFrame(channels[i][requested_columns], columns=requested_columns)\n",
    "    cdf.name = i    \n",
    "    cdf.to_csv(i+\".csv\", index=False)"
   ]
  }
 ],
 "metadata": {
  "kernelspec": {
   "display_name": "Python 3",
   "language": "python",
   "name": "python3"
  },
  "language_info": {
   "codemirror_mode": {
    "name": "ipython",
    "version": 3
   },
   "file_extension": ".py",
   "mimetype": "text/x-python",
   "name": "python",
   "nbconvert_exporter": "python",
   "pygments_lexer": "ipython3",
   "version": "3.8.5"
  }
 },
 "nbformat": 4,
 "nbformat_minor": 4
}
